{
 "cells": [
  {
   "cell_type": "code",
   "execution_count": 80,
   "metadata": {
    "collapsed": true
   },
   "outputs": [],
   "source": [
    "API_URL = r\"https://d3ug5fnb40.execute-api.eu-west-1.amazonaws.com/api/forecast\""
   ]
  },
  {
   "cell_type": "code",
   "execution_count": 81,
   "outputs": [],
   "source": [
    "import pandas as pd\n",
    "import numpy as np\n",
    "RAND = np.random.RandomState(100)"
   ],
   "metadata": {
    "collapsed": false,
    "pycharm": {
     "name": "#%%\n"
    }
   }
  },
  {
   "cell_type": "code",
   "execution_count": 82,
   "outputs": [],
   "source": [
    "values = RAND.randint(low=100, high=200, size=10)\n",
    "dates = pd.date_range(start='2020-1-1', freq='D', periods=10).strftime('%Y-%m-%d')\n",
    "train_data = [{'date': d, 'data': int(v)} for d, v in zip(dates, values)]"
   ],
   "metadata": {
    "collapsed": false,
    "pycharm": {
     "name": "#%%\n"
    }
   }
  },
  {
   "cell_type": "code",
   "execution_count": 83,
   "outputs": [],
   "source": [
    "forecast_start = (pd.to_datetime(dates[-1]) + pd.Timedelta(days=1)).strftime('%Y-%m-%d')\n",
    "forecast_end = (pd.to_datetime(forecast_start) + pd.Timedelta(days=5)).strftime('%Y-%m-%d')"
   ],
   "metadata": {
    "collapsed": false,
    "pycharm": {
     "name": "#%%\n"
    }
   }
  },
  {
   "cell_type": "code",
   "execution_count": 84,
   "outputs": [],
   "source": [
    "request_body = {\n",
    "    'train_data': train_data,\n",
    "    'start_date': forecast_start,\n",
    "    'end_date': forecast_end\n",
    "}\n"
   ],
   "metadata": {
    "collapsed": false,
    "pycharm": {
     "name": "#%%\n"
    }
   }
  },
  {
   "cell_type": "code",
   "execution_count": 85,
   "outputs": [],
   "source": [
    "import requests\n",
    "response = requests.post(API_URL, json=request_body)"
   ],
   "metadata": {
    "collapsed": false,
    "pycharm": {
     "name": "#%%\n"
    }
   }
  },
  {
   "cell_type": "code",
   "execution_count": 86,
   "outputs": [
    {
     "name": "stdout",
     "output_type": "stream",
     "text": [
      "Status is: 200\n"
     ]
    }
   ],
   "source": [
    "print(f\"Status is: {response.status_code}\")"
   ],
   "metadata": {
    "collapsed": false,
    "pycharm": {
     "name": "#%%\n"
    }
   }
  },
  {
   "cell_type": "code",
   "execution_count": 87,
   "outputs": [
    {
     "data": {
      "text/plain": "         date   data\n0  2020-01-11  156.7\n1  2020-01-12  156.7\n2  2020-01-13  156.7\n3  2020-01-14  156.7\n4  2020-01-15  156.7\n5  2020-01-16  156.7",
      "text/html": "<div>\n<style scoped>\n    .dataframe tbody tr th:only-of-type {\n        vertical-align: middle;\n    }\n\n    .dataframe tbody tr th {\n        vertical-align: top;\n    }\n\n    .dataframe thead th {\n        text-align: right;\n    }\n</style>\n<table border=\"1\" class=\"dataframe\">\n  <thead>\n    <tr style=\"text-align: right;\">\n      <th></th>\n      <th>date</th>\n      <th>data</th>\n    </tr>\n  </thead>\n  <tbody>\n    <tr>\n      <th>0</th>\n      <td>2020-01-11</td>\n      <td>156.7</td>\n    </tr>\n    <tr>\n      <th>1</th>\n      <td>2020-01-12</td>\n      <td>156.7</td>\n    </tr>\n    <tr>\n      <th>2</th>\n      <td>2020-01-13</td>\n      <td>156.7</td>\n    </tr>\n    <tr>\n      <th>3</th>\n      <td>2020-01-14</td>\n      <td>156.7</td>\n    </tr>\n    <tr>\n      <th>4</th>\n      <td>2020-01-15</td>\n      <td>156.7</td>\n    </tr>\n    <tr>\n      <th>5</th>\n      <td>2020-01-16</td>\n      <td>156.7</td>\n    </tr>\n  </tbody>\n</table>\n</div>"
     },
     "execution_count": 87,
     "metadata": {},
     "output_type": "execute_result"
    }
   ],
   "source": [
    "import json\n",
    "forecast_result = json.loads(response.content.decode('utf-8'))\n",
    "pd.DataFrame(forecast_result)"
   ],
   "metadata": {
    "collapsed": false,
    "pycharm": {
     "name": "#%%\n"
    }
   }
  }
 ],
 "metadata": {
  "kernelspec": {
   "display_name": "Python 3",
   "language": "python",
   "name": "python3"
  },
  "language_info": {
   "codemirror_mode": {
    "name": "ipython",
    "version": 2
   },
   "file_extension": ".py",
   "mimetype": "text/x-python",
   "name": "python",
   "nbconvert_exporter": "python",
   "pygments_lexer": "ipython2",
   "version": "2.7.6"
  }
 },
 "nbformat": 4,
 "nbformat_minor": 0
}